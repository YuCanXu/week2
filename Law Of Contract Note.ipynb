{
 "cells": [
  {
   "cell_type": "markdown",
   "metadata": {},
   "source": [
    "The goal this week is to pratice using Markdown to write descriptive text in notebooks and then look at Python data structures including the pandas module that supports data structures designed for handling the kind of data we'll be working with.  \n",
    "\n",
    "There is probably too much work to complete here in the workshop session, but please use this notebook after the workshop to practice your Python.  Remember to commit your changes to git as you go and push back to Github when you are done."
   ]
  },
  {
   "cell_type": "code",
   "execution_count": 1,
   "metadata": {},
   "outputs": [],
   "source": [
    "student_name = \"Yucan Xu\"\n",
    "student_id = 45553270"
   ]
  },
  {
   "cell_type": "markdown",
   "metadata": {},
   "source": [
    "## Markdown Practice\n",
    "\n",
    "# Biggest\n",
    "\n",
    "## Big\n",
    "\n",
    "## Medium\n",
    "\n",
    "#### small\n",
    "\n",
    "You can add link to [Markdown](https://daringfireball.net/projects/markdown/)\n",
    "1. Item one\n",
    "2. Another item\n",
    "3. Nested list\n",
    "   * Bullet points with \"italic\" text\n",
    "   * Bold uses **two asterisks**\n",
    "\n",
    "$\\sqrt(3x-1) + (1 + x)^2 $\n",
    " \n",
    "Complete this section as per the instructions in the iLearn practical page.  Add the required cells below this one.\n",
    "\n",
    "Code blocks use backticks\n",
    "``` python\n",
    "def myfunc(item):\n",
    "```pass\n",
    "\n",
    "<font color=blue><u>Blue Text</u></front>\n"
   ]
  },
  {
   "cell_type": "code",
   "execution_count": null,
   "metadata": {},
   "outputs": [],
   "source": [
    "![GitHub Logo](https://git-scm.com/images/logos/downloads/Git-Logo-2Color.png)"
   ]
  },
  {
   "cell_type": "code",
   "execution_count": null,
   "metadata": {},
   "outputs": [],
   "source": [
    "<img src= \"https://git-scm.com/images/logos/downloads/Git-Logo-2Color.png\" title=\"github logo\"width=\"150\" height=100 />"
   ]
  },
  {
   "cell_type": "markdown",
   "metadata": {},
   "source": [
    "## Lists and Dictionaries\n",
    "\n",
    "First we look at some built in Python data structures: lists and dictionaries. \n",
    "\n",
    "A list is a sequence of things, unlike strongly typed languages (Java, C#) a list can contain a mixture of different types - there is no type for a list of integers or a list of lists.   Here are some lists:"
   ]
  },
  {
   "cell_type": "code",
   "execution_count": 2,
   "metadata": {},
   "outputs": [],
   "source": [
    "ages = [12, 99, 51, 3, 55]\n",
    "names = ['steve', 'jim', 'mary', 'carrie', 'zin']\n",
    "stuff = [12, 'eighteen', 6, ['another', 'list']]"
   ]
  },
  {
   "cell_type": "markdown",
   "metadata": {},
   "source": [
    "1. write code to print the first and third elements of each list\n",
    "2. write code to select and print everything except the first element of each list\n",
    "3. write a for loop that prints each element of the 'names' list"
   ]
  },
  {
   "cell_type": "code",
   "execution_count": 3,
   "metadata": {},
   "outputs": [],
   "source": [
    "# write code here\n",
    "def print_items(items):\n",
    "    print(items[0])\n",
    "    print(items[2])"
   ]
  },
  {
   "cell_type": "code",
   "execution_count": 4,
   "metadata": {},
   "outputs": [
    {
     "name": "stdout",
     "output_type": "stream",
     "text": [
      "12\n",
      "51\n",
      "steve\n",
      "mary\n",
      "12\n",
      "6\n"
     ]
    }
   ],
   "source": [
    "print_items(ages)\n",
    "print_items(names)\n",
    "print_items(stuff)"
   ]
  },
  {
   "cell_type": "code",
   "execution_count": 5,
   "metadata": {},
   "outputs": [
    {
     "name": "stdout",
     "output_type": "stream",
     "text": [
      "[99, 51, 3, 55]\n",
      "['jim', 'mary', 'carrie', 'zin']\n",
      "['eighteen', 6, ['another', 'list']]\n"
     ]
    }
   ],
   "source": [
    "print(ages[1:])\n",
    "print(names[1:])\n",
    "print(stuff[1:])"
   ]
  },
  {
   "cell_type": "markdown",
   "metadata": {},
   "source": [
    "A dictionary is an associative array - it associates a value (any Python data type) with a key. The key is usually a string but can be any immutable type (string, number, tuple).  Here's some code that counts the occurence of words in a string.  It stores the count for each word in a dictionary using the word as a key. If the word is already stored in the dictionary, it adds one to the count, if not, it initialises the count to one.  \n",
    "\n",
    "The second for loop iterates over the keys in the dictionary and prints one line per entry.\n",
    "\n",
    "Modify this example to be a bit smarter:\n",
    "- make sure that punctuation characters are not included as parts of a word, be careful with hyphens - should they be included or not?\n",
    "- make the count use the lowercase version of a word, so that 'The' and 'the' are counted as the same word\n",
    "- **Challenge**: find the first and second most frequent words in the text\n",
    "- **Challenge**: take your code and write it as a function that takes a string and returns a list of words with their counts in order"
   ]
  },
  {
   "cell_type": "code",
   "execution_count": 6,
   "metadata": {},
   "outputs": [
    {
     "name": "stdout",
     "output_type": "stream",
     "text": [
      "steve\n",
      "jim\n",
      "mary\n",
      "carrie\n",
      "zin\n"
     ]
    }
   ],
   "source": [
    "for name in names:\n",
    "    print(name)"
   ]
  },
  {
   "cell_type": "code",
   "execution_count": 22,
   "metadata": {},
   "outputs": [
    {
     "data": {
      "text/plain": [
       "'This unit introduces students to the fundamental techniques and \\ntools of data science, such as the graphical display of data, \\npredictive models, evaluation methodologies, regression, \\nclassification and clusteringHi there The unit provides practical \\nexperience applying these methods using industry-standard \\nsoftware tools to real-world data setsHi there Students who have \\ncompleted this unit will be able to identify which data \\nscience methods are most appropriate for a real-world data \\nset, apply these methods to the data set, and interpret the \\nresults of the analysis they have performedHi there '"
      ]
     },
     "execution_count": 22,
     "metadata": {},
     "output_type": "execute_result"
    }
   ],
   "source": [
    "description = \"\"\"This unit introduces students to the fundamental techniques and \n",
    "tools of data science, such as the graphical display of data, \n",
    "predictive models, evaluation methodologies, regression, \n",
    "classification and clustering. The unit provides practical \n",
    "experience applying these methods using industry-standard \n",
    "software tools to real-world data sets. Students who have \n",
    "completed this unit will be able to identify which data \n",
    "science methods are most appropriate for a real-world data \n",
    "set, apply these methods to the data set, and interpret the \n",
    "results of the analysis they have performed. \"\"\"\n",
    "\n"
   ]
  },
  {
   "cell_type": "code",
   "execution_count": 27,
   "metadata": {},
   "outputs": [
    {
     "name": "stdout",
     "output_type": "stream",
     "text": [
      "this unit introduces students to the fundamental techniques and \n",
      "tools of data science such as the graphical display of data \n",
      "predictive models evaluation methodologies regression \n",
      "classification and clustering the unit provides practical \n",
      "experience applying these methods using industrystandard \n",
      "software tools to realworld data sets students who have \n",
      "completed this unit will be able to identify which data \n",
      "science methods are most appropriate for a realworld data \n",
      "set apply these methods to the data set and interpret the \n",
      "results of the analysis they have performed \n"
     ]
    }
   ],
   "source": [
    "description_clean = description.replace(\".\",\"\").replace(\",\",\"\").replace(\"-\",\"\").lower()\n",
    "print(description_clean)"
   ]
  },
  {
   "cell_type": "code",
   "execution_count": 18,
   "metadata": {},
   "outputs": [
    {
     "name": "stdout",
     "output_type": "stream",
     "text": [
      "this 2\n",
      "unit 5\n",
      "This 1\n",
      "introduces 1\n",
      "students 1\n",
      "to 4\n",
      "the 5\n",
      "fundamental 1\n",
      "techniques 1\n",
      "and 3\n",
      "tools 2\n",
      "of 3\n",
      "data 5\n",
      "science, 1\n",
      "such 1\n",
      "as 1\n",
      "graphical 1\n",
      "display 1\n",
      "data, 1\n",
      "predictive 1\n",
      "models, 1\n",
      "evaluation 1\n",
      "methodologies, 1\n",
      "regression, 1\n",
      "classification 1\n",
      "clustering. 1\n",
      "The 1\n",
      "provides 1\n",
      "practical 1\n",
      "experience 1\n",
      "applying 1\n",
      "these 2\n",
      "methods 3\n",
      "using 1\n",
      "industry-standard 1\n",
      "software 1\n",
      "real-world 2\n",
      "sets. 1\n",
      "Students 1\n",
      "who 1\n",
      "have 2\n",
      "completed 1\n",
      "will 1\n",
      "be 1\n",
      "able 1\n",
      "identify 1\n",
      "which 1\n",
      "science 1\n",
      "are 1\n",
      "most 1\n",
      "appropriate 1\n",
      "for 1\n",
      "a 1\n",
      "set, 2\n",
      "apply 1\n",
      "interpret 1\n",
      "results 1\n",
      "analysis 1\n",
      "they 1\n",
      "performed. 1\n"
     ]
    }
   ],
   "source": [
    "ount = dict()\n",
    "for word in description.split():\n",
    "    if word in count:\n",
    "        count[word] += 1\n",
    "    else:\n",
    "        count[word] = 1\n",
    "        \n",
    "for word in count:\n",
    "    print(word, count[word])"
   ]
  },
  {
   "cell_type": "code",
   "execution_count": 28,
   "metadata": {},
   "outputs": [],
   "source": [
    "#CHALLENGE HINT\n",
    "from collections import Counter, OrderedDict"
   ]
  },
  {
   "cell_type": "markdown",
   "metadata": {},
   "source": [
    "## Pandas Data Frames\n",
    "\n",
    "[Pandas](https://pandas.pydata.org) is a Python module that provides some important data structures for Data Science work and a large collection of methods for data analysis. \n",
    "\n",
    "The two main data structures are the [Series]() and [DataFrame](http://pandas.pydata.org/pandas-docs/stable/dsintro.html#dataframe).  \n",
    "\n",
    "A Series is a one dimensional array of data, but unlike the Python list the data is indexed - the index is like the dictionary key, any immutable value like a number or string.  You can use the label to select elements from the series as well as positional values.  \n",
    "\n",
    "A DataFrame is analogous to a spreadsheet - a two dimensional table of data with indexed rows and named columns. \n",
    "\n",
    "You should read up on these and follow the examples in the text.  Here are a few exercises to complete with data frames."
   ]
  },
  {
   "cell_type": "markdown",
   "metadata": {},
   "source": [
    "You are given three csv files containing sample data."
   ]
  },
  {
   "cell_type": "code",
   "execution_count": 41,
   "metadata": {},
   "outputs": [],
   "source": [
    "import pandas as p\n",
    "import numpy as np\n",
    "import matplotlib.pyplot as plt\n",
    "%matplotlib inline\n",
    "\n",
    "ds1 = 'data/ds1.csv'\n",
    "ds2 = 'data/ds2.csv'\n",
    "ds3 = 'data/ds3.csv'"
   ]
  },
  {
   "cell_type": "markdown",
   "metadata": {},
   "source": [
    "Write code below to read one of these data files into a pandas data frame and:\n",
    "- show the first few rows: .head\n",
    "- find the summary data for each column: .describe\n",
    "- select just those rows where the value of x and y is over 50\n",
    "- select the column 'x' and create a series\n",
    "- plot the 'x' series as a line graph\n",
    "- plot the dataframe as a scatterplot\n",
    "\n",
    "Once you have the code for this, you can change the file you use for input of the data (ds2, ds3) and re-run the following cells to see the different output that is generated"
   ]
  },
  {
   "cell_type": "code",
   "execution_count": 56,
   "metadata": {},
   "outputs": [
    {
     "data": {
      "text/html": [
       "<div>\n",
       "<style scoped>\n",
       "    .dataframe tbody tr th:only-of-type {\n",
       "        vertical-align: middle;\n",
       "    }\n",
       "\n",
       "    .dataframe tbody tr th {\n",
       "        vertical-align: top;\n",
       "    }\n",
       "\n",
       "    .dataframe thead th {\n",
       "        text-align: right;\n",
       "    }\n",
       "</style>\n",
       "<table border=\"1\" class=\"dataframe\">\n",
       "  <thead>\n",
       "    <tr style=\"text-align: right;\">\n",
       "      <th></th>\n",
       "      <th>x</th>\n",
       "      <th>y</th>\n",
       "    </tr>\n",
       "  </thead>\n",
       "  <tbody>\n",
       "    <tr>\n",
       "      <th>0</th>\n",
       "      <td>58.213608</td>\n",
       "      <td>91.881892</td>\n",
       "    </tr>\n",
       "    <tr>\n",
       "      <th>1</th>\n",
       "      <td>58.196054</td>\n",
       "      <td>92.214989</td>\n",
       "    </tr>\n",
       "    <tr>\n",
       "      <th>2</th>\n",
       "      <td>58.718231</td>\n",
       "      <td>90.310532</td>\n",
       "    </tr>\n",
       "    <tr>\n",
       "      <th>3</th>\n",
       "      <td>57.278373</td>\n",
       "      <td>89.907607</td>\n",
       "    </tr>\n",
       "    <tr>\n",
       "      <th>4</th>\n",
       "      <td>58.082020</td>\n",
       "      <td>92.008145</td>\n",
       "    </tr>\n",
       "  </tbody>\n",
       "</table>\n",
       "</div>"
      ],
      "text/plain": [
       "           x          y\n",
       "0  58.213608  91.881892\n",
       "1  58.196054  92.214989\n",
       "2  58.718231  90.310532\n",
       "3  57.278373  89.907607\n",
       "4  58.082020  92.008145"
      ]
     },
     "execution_count": 56,
     "metadata": {},
     "output_type": "execute_result"
    }
   ],
   "source": [
    "# write your code here\n",
    "df = pd.read_csv(ds3)\n",
    "df.head()"
   ]
  },
  {
   "cell_type": "code",
   "execution_count": 44,
   "metadata": {},
   "outputs": [
    {
     "data": {
      "text/html": [
       "<div>\n",
       "<style scoped>\n",
       "    .dataframe tbody tr th:only-of-type {\n",
       "        vertical-align: middle;\n",
       "    }\n",
       "\n",
       "    .dataframe tbody tr th {\n",
       "        vertical-align: top;\n",
       "    }\n",
       "\n",
       "    .dataframe thead th {\n",
       "        text-align: right;\n",
       "    }\n",
       "</style>\n",
       "<table border=\"1\" class=\"dataframe\">\n",
       "  <thead>\n",
       "    <tr style=\"text-align: right;\">\n",
       "      <th></th>\n",
       "      <th>x</th>\n",
       "      <th>y</th>\n",
       "    </tr>\n",
       "  </thead>\n",
       "  <tbody>\n",
       "    <tr>\n",
       "      <th>count</th>\n",
       "      <td>142.000000</td>\n",
       "      <td>142.000000</td>\n",
       "    </tr>\n",
       "    <tr>\n",
       "      <th>mean</th>\n",
       "      <td>54.267341</td>\n",
       "      <td>47.839545</td>\n",
       "    </tr>\n",
       "    <tr>\n",
       "      <th>std</th>\n",
       "      <td>16.768959</td>\n",
       "      <td>26.930275</td>\n",
       "    </tr>\n",
       "    <tr>\n",
       "      <th>min</th>\n",
       "      <td>27.024603</td>\n",
       "      <td>14.365590</td>\n",
       "    </tr>\n",
       "    <tr>\n",
       "      <th>25%</th>\n",
       "      <td>41.034210</td>\n",
       "      <td>20.374135</td>\n",
       "    </tr>\n",
       "    <tr>\n",
       "      <th>50%</th>\n",
       "      <td>56.534732</td>\n",
       "      <td>50.110554</td>\n",
       "    </tr>\n",
       "    <tr>\n",
       "      <th>75%</th>\n",
       "      <td>68.711493</td>\n",
       "      <td>63.548584</td>\n",
       "    </tr>\n",
       "    <tr>\n",
       "      <th>max</th>\n",
       "      <td>86.435897</td>\n",
       "      <td>92.214989</td>\n",
       "    </tr>\n",
       "  </tbody>\n",
       "</table>\n",
       "</div>"
      ],
      "text/plain": [
       "                x           y\n",
       "count  142.000000  142.000000\n",
       "mean    54.267341   47.839545\n",
       "std     16.768959   26.930275\n",
       "min     27.024603   14.365590\n",
       "25%     41.034210   20.374135\n",
       "50%     56.534732   50.110554\n",
       "75%     68.711493   63.548584\n",
       "max     86.435897   92.214989"
      ]
     },
     "execution_count": 44,
     "metadata": {},
     "output_type": "execute_result"
    }
   ],
   "source": [
    "df.describe()"
   ]
  },
  {
   "cell_type": "code",
   "execution_count": 49,
   "metadata": {},
   "outputs": [
    {
     "data": {
      "text/html": [
       "<div>\n",
       "<style scoped>\n",
       "    .dataframe tbody tr th:only-of-type {\n",
       "        vertical-align: middle;\n",
       "    }\n",
       "\n",
       "    .dataframe tbody tr th {\n",
       "        vertical-align: top;\n",
       "    }\n",
       "\n",
       "    .dataframe thead th {\n",
       "        text-align: right;\n",
       "    }\n",
       "</style>\n",
       "<table border=\"1\" class=\"dataframe\">\n",
       "  <thead>\n",
       "    <tr style=\"text-align: right;\">\n",
       "      <th></th>\n",
       "      <th>x</th>\n",
       "      <th>y</th>\n",
       "    </tr>\n",
       "  </thead>\n",
       "  <tbody>\n",
       "    <tr>\n",
       "      <th>0</th>\n",
       "      <td>58.213608</td>\n",
       "      <td>91.881892</td>\n",
       "    </tr>\n",
       "    <tr>\n",
       "      <th>1</th>\n",
       "      <td>58.196054</td>\n",
       "      <td>92.214989</td>\n",
       "    </tr>\n",
       "    <tr>\n",
       "      <th>2</th>\n",
       "      <td>58.718231</td>\n",
       "      <td>90.310532</td>\n",
       "    </tr>\n",
       "    <tr>\n",
       "      <th>3</th>\n",
       "      <td>57.278373</td>\n",
       "      <td>89.907607</td>\n",
       "    </tr>\n",
       "    <tr>\n",
       "      <th>4</th>\n",
       "      <td>58.082020</td>\n",
       "      <td>92.008145</td>\n",
       "    </tr>\n",
       "    <tr>\n",
       "      <th>5</th>\n",
       "      <td>57.489448</td>\n",
       "      <td>88.085286</td>\n",
       "    </tr>\n",
       "    <tr>\n",
       "      <th>24</th>\n",
       "      <td>64.892788</td>\n",
       "      <td>65.814177</td>\n",
       "    </tr>\n",
       "    <tr>\n",
       "      <th>25</th>\n",
       "      <td>62.490149</td>\n",
       "      <td>74.584290</td>\n",
       "    </tr>\n",
       "    <tr>\n",
       "      <th>26</th>\n",
       "      <td>68.988084</td>\n",
       "      <td>63.232147</td>\n",
       "    </tr>\n",
       "    <tr>\n",
       "      <th>27</th>\n",
       "      <td>62.105619</td>\n",
       "      <td>75.990871</td>\n",
       "    </tr>\n",
       "    <tr>\n",
       "      <th>61</th>\n",
       "      <td>77.392982</td>\n",
       "      <td>63.371459</td>\n",
       "    </tr>\n",
       "    <tr>\n",
       "      <th>62</th>\n",
       "      <td>64.400787</td>\n",
       "      <td>67.448718</td>\n",
       "    </tr>\n",
       "    <tr>\n",
       "      <th>63</th>\n",
       "      <td>63.868960</td>\n",
       "      <td>70.213739</td>\n",
       "    </tr>\n",
       "    <tr>\n",
       "      <th>64</th>\n",
       "      <td>56.594421</td>\n",
       "      <td>86.927006</td>\n",
       "    </tr>\n",
       "    <tr>\n",
       "      <th>65</th>\n",
       "      <td>56.531337</td>\n",
       "      <td>87.499811</td>\n",
       "    </tr>\n",
       "    <tr>\n",
       "      <th>66</th>\n",
       "      <td>59.652158</td>\n",
       "      <td>87.809462</td>\n",
       "    </tr>\n",
       "    <tr>\n",
       "      <th>67</th>\n",
       "      <td>56.636509</td>\n",
       "      <td>85.637496</td>\n",
       "    </tr>\n",
       "    <tr>\n",
       "      <th>68</th>\n",
       "      <td>58.672288</td>\n",
       "      <td>90.077160</td>\n",
       "    </tr>\n",
       "    <tr>\n",
       "      <th>69</th>\n",
       "      <td>58.221613</td>\n",
       "      <td>90.411019</td>\n",
       "    </tr>\n",
       "    <tr>\n",
       "      <th>70</th>\n",
       "      <td>57.914664</td>\n",
       "      <td>89.953803</td>\n",
       "    </tr>\n",
       "    <tr>\n",
       "      <th>71</th>\n",
       "      <td>55.315509</td>\n",
       "      <td>80.251861</td>\n",
       "    </tr>\n",
       "    <tr>\n",
       "      <th>72</th>\n",
       "      <td>54.575729</td>\n",
       "      <td>77.536288</td>\n",
       "    </tr>\n",
       "    <tr>\n",
       "      <th>73</th>\n",
       "      <td>54.413094</td>\n",
       "      <td>78.229087</td>\n",
       "    </tr>\n",
       "    <tr>\n",
       "      <th>74</th>\n",
       "      <td>55.074506</td>\n",
       "      <td>79.817546</td>\n",
       "    </tr>\n",
       "    <tr>\n",
       "      <th>78</th>\n",
       "      <td>58.461839</td>\n",
       "      <td>90.265326</td>\n",
       "    </tr>\n",
       "    <tr>\n",
       "      <th>79</th>\n",
       "      <td>57.997805</td>\n",
       "      <td>92.159909</td>\n",
       "    </tr>\n",
       "    <tr>\n",
       "      <th>80</th>\n",
       "      <td>57.549474</td>\n",
       "      <td>90.748907</td>\n",
       "    </tr>\n",
       "    <tr>\n",
       "      <th>81</th>\n",
       "      <td>59.529928</td>\n",
       "      <td>88.327274</td>\n",
       "    </tr>\n",
       "    <tr>\n",
       "      <th>82</th>\n",
       "      <td>58.249391</td>\n",
       "      <td>92.129681</td>\n",
       "    </tr>\n",
       "    <tr>\n",
       "      <th>83</th>\n",
       "      <td>58.024514</td>\n",
       "      <td>91.694421</td>\n",
       "    </tr>\n",
       "    <tr>\n",
       "      <th>84</th>\n",
       "      <td>58.382124</td>\n",
       "      <td>90.553476</td>\n",
       "    </tr>\n",
       "    <tr>\n",
       "      <th>85</th>\n",
       "      <td>62.566759</td>\n",
       "      <td>77.743935</td>\n",
       "    </tr>\n",
       "    <tr>\n",
       "      <th>86</th>\n",
       "      <td>72.175824</td>\n",
       "      <td>63.128929</td>\n",
       "    </tr>\n",
       "    <tr>\n",
       "      <th>87</th>\n",
       "      <td>79.472762</td>\n",
       "      <td>63.408686</td>\n",
       "    </tr>\n",
       "    <tr>\n",
       "      <th>88</th>\n",
       "      <td>80.357701</td>\n",
       "      <td>63.295438</td>\n",
       "    </tr>\n",
       "    <tr>\n",
       "      <th>89</th>\n",
       "      <td>78.757236</td>\n",
       "      <td>53.332620</td>\n",
       "    </tr>\n",
       "    <tr>\n",
       "      <th>90</th>\n",
       "      <td>82.540240</td>\n",
       "      <td>56.541052</td>\n",
       "    </tr>\n",
       "    <tr>\n",
       "      <th>91</th>\n",
       "      <td>86.435897</td>\n",
       "      <td>59.792762</td>\n",
       "    </tr>\n",
       "    <tr>\n",
       "      <th>92</th>\n",
       "      <td>79.488684</td>\n",
       "      <td>53.651674</td>\n",
       "    </tr>\n",
       "    <tr>\n",
       "      <th>93</th>\n",
       "      <td>81.530420</td>\n",
       "      <td>56.025365</td>\n",
       "    </tr>\n",
       "    <tr>\n",
       "      <th>94</th>\n",
       "      <td>79.186789</td>\n",
       "      <td>53.234792</td>\n",
       "    </tr>\n",
       "    <tr>\n",
       "      <th>95</th>\n",
       "      <td>77.899058</td>\n",
       "      <td>51.822458</td>\n",
       "    </tr>\n",
       "    <tr>\n",
       "      <th>138</th>\n",
       "      <td>79.326078</td>\n",
       "      <td>52.900391</td>\n",
       "    </tr>\n",
       "    <tr>\n",
       "      <th>139</th>\n",
       "      <td>56.663974</td>\n",
       "      <td>87.940125</td>\n",
       "    </tr>\n",
       "    <tr>\n",
       "      <th>140</th>\n",
       "      <td>57.821789</td>\n",
       "      <td>90.693167</td>\n",
       "    </tr>\n",
       "    <tr>\n",
       "      <th>141</th>\n",
       "      <td>58.243172</td>\n",
       "      <td>92.104328</td>\n",
       "    </tr>\n",
       "  </tbody>\n",
       "</table>\n",
       "</div>"
      ],
      "text/plain": [
       "             x          y\n",
       "0    58.213608  91.881892\n",
       "1    58.196054  92.214989\n",
       "2    58.718231  90.310532\n",
       "3    57.278373  89.907607\n",
       "4    58.082020  92.008145\n",
       "5    57.489448  88.085286\n",
       "24   64.892788  65.814177\n",
       "25   62.490149  74.584290\n",
       "26   68.988084  63.232147\n",
       "27   62.105619  75.990871\n",
       "61   77.392982  63.371459\n",
       "62   64.400787  67.448718\n",
       "63   63.868960  70.213739\n",
       "64   56.594421  86.927006\n",
       "65   56.531337  87.499811\n",
       "66   59.652158  87.809462\n",
       "67   56.636509  85.637496\n",
       "68   58.672288  90.077160\n",
       "69   58.221613  90.411019\n",
       "70   57.914664  89.953803\n",
       "71   55.315509  80.251861\n",
       "72   54.575729  77.536288\n",
       "73   54.413094  78.229087\n",
       "74   55.074506  79.817546\n",
       "78   58.461839  90.265326\n",
       "79   57.997805  92.159909\n",
       "80   57.549474  90.748907\n",
       "81   59.529928  88.327274\n",
       "82   58.249391  92.129681\n",
       "83   58.024514  91.694421\n",
       "84   58.382124  90.553476\n",
       "85   62.566759  77.743935\n",
       "86   72.175824  63.128929\n",
       "87   79.472762  63.408686\n",
       "88   80.357701  63.295438\n",
       "89   78.757236  53.332620\n",
       "90   82.540240  56.541052\n",
       "91   86.435897  59.792762\n",
       "92   79.488684  53.651674\n",
       "93   81.530420  56.025365\n",
       "94   79.186789  53.234792\n",
       "95   77.899058  51.822458\n",
       "138  79.326078  52.900391\n",
       "139  56.663974  87.940125\n",
       "140  57.821789  90.693167\n",
       "141  58.243172  92.104328"
      ]
     },
     "execution_count": 49,
     "metadata": {},
     "output_type": "execute_result"
    }
   ],
   "source": [
    "df[(df['x'] > 50)&(df['y'] > 50)]"
   ]
  },
  {
   "cell_type": "code",
   "execution_count": 50,
   "metadata": {},
   "outputs": [
    {
     "data": {
      "text/plain": [
       "0      58.213608\n",
       "1      58.196054\n",
       "2      58.718231\n",
       "3      57.278373\n",
       "4      58.082020\n",
       "         ...    \n",
       "137    43.722551\n",
       "138    79.326078\n",
       "139    56.663974\n",
       "140    57.821789\n",
       "141    58.243172\n",
       "Name: x, Length: 142, dtype: float64"
      ]
     },
     "execution_count": 50,
     "metadata": {},
     "output_type": "execute_result"
    }
   ],
   "source": [
    "x_col = df['x']\n",
    "x_col"
   ]
  },
  {
   "cell_type": "code",
   "execution_count": 58,
   "metadata": {},
   "outputs": [
    {
     "data": {
      "text/plain": [
       "<AxesSubplot:>"
      ]
     },
     "execution_count": 58,
     "metadata": {},
     "output_type": "execute_result"
    },
    {
     "data": {
      "image/png": "[encoded data removed]",
      "text/plain": [
       "<Figure size 432x288 with 1 Axes>"
      ]
     },
     "metadata": {
      "needs_background": "light"
     },
     "output_type": "display_data"
    }
   ],
   "source": [
    "x_col.plot()"
   ]
  },
  {
   "cell_type": "code",
   "execution_count": 57,
   "metadata": {},
   "outputs": [
    {
     "data": {
      "text/plain": [
       "<AxesSubplot:xlabel='x', ylabel='y'>"
      ]
     },
     "execution_count": 57,
     "metadata": {},
     "output_type": "execute_result"
    },
    {
     "data": {
      "image/png": "[encoded data removed]",
      "text/plain": [
       "<Figure size 432x288 with 1 Axes>"
      ]
     },
     "metadata": {
      "needs_background": "light"
     },
     "output_type": "display_data"
    }
   ],
   "source": [
    "df.plot(kind='scatter',x='x',y='y')"
   ]
  },
  {
   "cell_type": "markdown",
   "metadata": {},
   "source": [
    "## Checkpoint\n",
    "\n",
    "Congratulations! you have finished the required task for Week 2. Since you got this empty (without your code and output) notebook by downloading from iLearn, place this notebook (Workshop Week 2.ipynb) into your local copy of your Github repository (e.g. practical-workshops-sonitsingh)and commit your work with a suitable commit message and push your changes back to your Github repository. Show your tutor your updated Github repository to get your checkpoint mark."
   ]
  },
  {
   "cell_type": "markdown",
   "metadata": {},
   "source": [
    "# Further Practice\n",
    "\n",
    "If you finish this task you can practice more with pandas data frames by following the examples in the text, section 2.6.  The CSV file that they use in that section is available in the `files` directory of this repository as `educ_figdp_1_Data.csv`.   "
   ]
  },
  {
   "cell_type": "code",
   "execution_count": null,
   "metadata": {},
   "outputs": [],
   "source": [
    "edufile = 'files/educ_figdp_1_Data.csv'"
   ]
  }
 ],
 "metadata": {
  "kernelspec": {
   "display_name": "Python 3 (ipykernel)",
   "language": "python",
   "name": "python3"
  },
  "language_info": {
   "codemirror_mode": {
    "name": "ipython",
    "version": 3
   },
   "file_extension": ".py",
   "mimetype": "text/x-python",
   "name": "python",
   "nbconvert_exporter": "python",
   "pygments_lexer": "ipython3",
   "version": "3.9.7"
  }
 },
 "nbformat": 4,
 "nbformat_minor": 2
}
